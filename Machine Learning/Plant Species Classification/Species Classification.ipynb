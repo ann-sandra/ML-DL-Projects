{
  "nbformat": 4,
  "nbformat_minor": 0,
  "metadata": {
    "colab": {
      "name": "iris naive bayes.ipynb",
      "version": "0.3.2",
      "provenance": [],
      "include_colab_link": true
    },
    "kernelspec": {
      "name": "python3",
      "display_name": "Python 3"
    }
  },
  "cells": [
    {
      "cell_type": "markdown",
      "metadata": {
        "id": "view-in-github",
        "colab_type": "text"
      },
      "source": [
        "<a href=\"https://colab.research.google.com/github/annsandra98/Data-Analytics/blob/master/iris_naive_bayes.ipynb\" target=\"_parent\"><img src=\"https://colab.research.google.com/assets/colab-badge.svg\" alt=\"Open In Colab\"/></a>"
      ]
    },
    {
      "cell_type": "code",
      "metadata": {
        "id": "U2uz407Ihq-i",
        "colab_type": "code",
        "colab": {}
      },
      "source": [
        "import numpy as np # linear algebra\n",
        "import pandas as pd # data processing, CSV file I/O (e.g. pd.read_csv)\n",
        "from sklearn.naive_bayes import GaussianNB\n",
        "from sklearn import model_selection\n",
        "from sklearn.model_selection import train_test_split\n",
        "from sklearn.metrics import classification_report\n",
        "from sklearn.metrics import confusion_matrix\n",
        "from sklearn.metrics import accuracy_score\n"
      ],
      "execution_count": 0,
      "outputs": []
    },
    {
      "cell_type": "code",
      "metadata": {
        "id": "XzdrJXm3iR2e",
        "colab_type": "code",
        "colab": {}
      },
      "source": [
        "df=pd.read_csv('Iris.csv')\n",
        "\n",
        "#Replace Species type with numbers\n",
        "df.Species.replace(['Iris-setosa', 'Iris-versicolor', 'Iris-virginica'], [1, 2, 3], inplace=True)\n",
        "\n"
      ],
      "execution_count": 0,
      "outputs": []
    },
    {
      "cell_type": "code",
      "metadata": {
        "id": "XO82jsT7jZwS",
        "colab_type": "code",
        "colab": {}
      },
      "source": [
        "#Initialize Gaussian Naive Bayes\n",
        "clf = GaussianNB()\n",
        "\n"
      ],
      "execution_count": 0,
      "outputs": []
    },
    {
      "cell_type": "code",
      "metadata": {
        "id": "Rb4K-S_7jg6K",
        "colab_type": "code",
        "colab": {}
      },
      "source": [
        "# Split-out validation dataset\n",
        "array = df.values\n",
        "X = array[:,1:5]\n",
        "Y = array[:,5]\n",
        "\n"
      ],
      "execution_count": 0,
      "outputs": []
    },
    {
      "cell_type": "code",
      "metadata": {
        "id": "6fyuTMlBjjPi",
        "colab_type": "code",
        "colab": {}
      },
      "source": [
        "# One-third of data as a part of test set\n",
        "validation_size = 0.33\n",
        "\n",
        "seed = 7\n",
        "X_train, X_validation, Y_train, Y_validation = model_selection.train_test_split(X, Y, test_size=validation_size, random_state=seed)\n",
        "\n"
      ],
      "execution_count": 0,
      "outputs": []
    },
    {
      "cell_type": "code",
      "metadata": {
        "id": "yx6HdnIQjkn6",
        "colab_type": "code",
        "colab": {}
      },
      "source": [
        "# Test options and evaluation metric\n",
        "scoring = 'accuracy'"
      ],
      "execution_count": 0,
      "outputs": []
    },
    {
      "cell_type": "code",
      "metadata": {
        "id": "8RopV6H2iWU-",
        "colab_type": "code",
        "outputId": "e28e7a60-c967-47c9-a7a7-1e421ad2ff2a",
        "colab": {
          "base_uri": "https://localhost:8080/",
          "height": 34
        }
      },
      "source": [
        "clf.fit(X_train, Y_train) \n",
        "\n"
      ],
      "execution_count": 0,
      "outputs": [
        {
          "output_type": "execute_result",
          "data": {
            "text/plain": [
              "GaussianNB(priors=None, var_smoothing=1e-09)"
            ]
          },
          "metadata": {
            "tags": []
          },
          "execution_count": 16
        }
      ]
    },
    {
      "cell_type": "code",
      "metadata": {
        "id": "odEDZZ4Ljo8L",
        "colab_type": "code",
        "colab": {}
      },
      "source": [
        "#Predicting for the Test Set\n",
        "pred_clf = clf.predict(X_validation)\n"
      ],
      "execution_count": 0,
      "outputs": []
    },
    {
      "cell_type": "code",
      "metadata": {
        "id": "slGiYJLApu7P",
        "colab_type": "code",
        "colab": {
          "base_uri": "https://localhost:8080/",
          "height": 68
        },
        "outputId": "c502c4c4-a41b-404f-ecb6-88053449bf88"
      },
      "source": [
        "confusion_matrix( Y_validation,pred_clf)"
      ],
      "execution_count": 47,
      "outputs": [
        {
          "output_type": "execute_result",
          "data": {
            "text/plain": [
              "array([[14,  0,  0],\n",
              "       [ 0, 15,  3],\n",
              "       [ 0,  2, 16]])"
            ]
          },
          "metadata": {
            "tags": []
          },
          "execution_count": 47
        }
      ]
    },
    {
      "cell_type": "code",
      "metadata": {
        "id": "hjPwycjCjur7",
        "colab_type": "code",
        "colab": {}
      },
      "source": [
        "\n",
        "#Prediction Probability\n",
        "prob_pos_clf = clf.predict_proba(X_validation)[:, 1]\n",
        "\n"
      ],
      "execution_count": 0,
      "outputs": []
    },
    {
      "cell_type": "code",
      "metadata": {
        "id": "t5ZctGTFjuvS",
        "colab_type": "code",
        "colab": {}
      },
      "source": [
        "#Create the prediction file by concatenation of the original data and predictions\n",
        "#Reshaping needed to perform the concatenation\n",
        "pred_clf_df = pd.DataFrame(pred_clf.reshape(50,1))\n"
      ],
      "execution_count": 0,
      "outputs": []
    },
    {
      "cell_type": "code",
      "metadata": {
        "id": "j9S3m2Nvjuzr",
        "colab_type": "code",
        "colab": {}
      },
      "source": [
        "#Column renaming to indicate the predictions\n",
        "pred_clf_df.rename(columns={0:'Prediction'}, inplace=True)\n",
        "\n"
      ],
      "execution_count": 0,
      "outputs": []
    },
    {
      "cell_type": "code",
      "metadata": {
        "id": "v2s7AdHeju48",
        "colab_type": "code",
        "colab": {}
      },
      "source": [
        "#reshaping the test dataset\n",
        "X_validation_df = pd.DataFrame(X_validation.reshape(50,4))\n",
        "\n"
      ],
      "execution_count": 0,
      "outputs": []
    },
    {
      "cell_type": "code",
      "metadata": {
        "id": "GXNrXsSTj2tK",
        "colab_type": "code",
        "colab": {}
      },
      "source": [
        "#concatenating the two pandas dataframes over the columns to create a prediction dataset\n",
        "pred_outcome = pd.concat([X_validation_df, pred_clf_df], axis=1, join_axes=[X_validation_df.index])\n",
        "\n",
        "pred_outcome.rename(columns = {0:'SepalLengthCm', 1:'SepalWidthCm', 2:'PetalLengthCm', 3:'PetalWidthCm'}, inplace=True)\n",
        "\n",
        "del df['Id']"
      ],
      "execution_count": 0,
      "outputs": []
    },
    {
      "cell_type": "code",
      "metadata": {
        "id": "rikyDhI-ijIM",
        "colab_type": "code",
        "colab": {}
      },
      "source": [
        "#merging the prediction with original dataset\n",
        "pred_comp = pd.merge(df,pred_outcome, on=['SepalLengthCm','SepalWidthCm','PetalLengthCm','PetalWidthCm'])\n",
        "\n"
      ],
      "execution_count": 0,
      "outputs": []
    },
    {
      "cell_type": "code",
      "metadata": {
        "id": "DqHWgKVuj86D",
        "colab_type": "code",
        "outputId": "ab440ce1-574a-45b0-a268-74b7001fcfc6",
        "colab": {
          "base_uri": "https://localhost:8080/",
          "height": 952
        }
      },
      "source": [
        "#print top 10 lines of the final predictions\n",
        "print((pred_comp).head(50))\n",
        "print (\"\\n\")\n",
        "\n"
      ],
      "execution_count": 63,
      "outputs": [
        {
          "output_type": "stream",
          "text": [
            "    SepalLengthCm  SepalWidthCm  ...  Species  Prediction\n",
            "0             5.4           3.9  ...        1         1.0\n",
            "1             4.9           3.1  ...        1         1.0\n",
            "2             4.9           3.1  ...        1         1.0\n",
            "3             4.9           3.1  ...        1         1.0\n",
            "4             4.8           3.4  ...        1         1.0\n",
            "5             5.1           3.5  ...        1         1.0\n",
            "6             4.6           3.6  ...        1         1.0\n",
            "7             5.2           3.4  ...        1         1.0\n",
            "8             4.7           3.2  ...        1         1.0\n",
            "9             5.2           4.1  ...        1         1.0\n",
            "10            5.5           3.5  ...        1         1.0\n",
            "11            5.0           3.5  ...        1         1.0\n",
            "12            4.5           2.3  ...        1         1.0\n",
            "13            4.8           3.0  ...        1         1.0\n",
            "14            5.1           3.8  ...        1         1.0\n",
            "15            5.0           3.3  ...        1         1.0\n",
            "16            6.4           3.2  ...        2         2.0\n",
            "17            6.9           3.1  ...        2         3.0\n",
            "18            6.0           2.2  ...        2         2.0\n",
            "19            6.1           2.9  ...        2         2.0\n",
            "20            6.7           3.1  ...        2         2.0\n",
            "21            5.6           3.0  ...        2         2.0\n",
            "22            5.9           3.2  ...        2         3.0\n",
            "23            6.4           2.9  ...        2         2.0\n",
            "24            6.8           2.8  ...        2         2.0\n",
            "25            6.7           3.0  ...        2         3.0\n",
            "26            5.7           2.6  ...        2         2.0\n",
            "27            5.5           2.4  ...        2         2.0\n",
            "28            5.8           2.7  ...        2         2.0\n",
            "29            5.4           3.0  ...        2         2.0\n",
            "30            6.0           3.4  ...        2         2.0\n",
            "31            5.6           2.7  ...        2         2.0\n",
            "32            5.7           3.0  ...        2         2.0\n",
            "33            6.2           2.9  ...        2         2.0\n",
            "34            5.8           2.7  ...        3         3.0\n",
            "35            5.8           2.7  ...        3         3.0\n",
            "36            7.1           3.0  ...        3         3.0\n",
            "37            4.9           2.5  ...        3         2.0\n",
            "38            6.7           2.5  ...        3         3.0\n",
            "39            7.2           3.6  ...        3         3.0\n",
            "40            6.4           2.7  ...        3         3.0\n",
            "41            6.5           3.0  ...        3         3.0\n",
            "42            6.0           2.2  ...        3         2.0\n",
            "43            6.9           3.2  ...        3         3.0\n",
            "44            6.7           3.3  ...        3         3.0\n",
            "45            6.2           2.8  ...        3         3.0\n",
            "46            7.2           3.0  ...        3         3.0\n",
            "47            6.4           2.8  ...        3         3.0\n",
            "48            6.4           3.1  ...        3         3.0\n",
            "49            6.0           3.0  ...        3         3.0\n",
            "\n",
            "[50 rows x 6 columns]\n",
            "\n",
            "\n"
          ],
          "name": "stdout"
        }
      ]
    },
    {
      "cell_type": "code",
      "metadata": {
        "id": "HRNt4UndkHM7",
        "colab_type": "code",
        "colab": {}
      },
      "source": [
        "#Model Performance\n",
        "#setting performance parameters\n",
        "kfold = model_selection.KFold(n_splits=10, random_state=seed)\n",
        "\n"
      ],
      "execution_count": 0,
      "outputs": []
    },
    {
      "cell_type": "code",
      "metadata": {
        "id": "mVUpKnBUkHZb",
        "colab_type": "code",
        "colab": {}
      },
      "source": [
        "#calling the cross validation function\n",
        "cv_results = model_selection.cross_val_score(GaussianNB(), X_train, Y_train, cv=kfold, scoring=scoring)\n",
        "\n"
      ],
      "execution_count": 0,
      "outputs": []
    },
    {
      "cell_type": "code",
      "metadata": {
        "id": "7tGBXLqJkN10",
        "colab_type": "code",
        "outputId": "47d57f1b-b9e9-4cb1-9d4c-a2ee2f7edddd",
        "colab": {
          "base_uri": "https://localhost:8080/",
          "height": 34
        }
      },
      "source": [
        "#displaying the mean and standard deviation of the prediction\n",
        "msg = \"%s: %f (%f)\" % ('NB accuracy', cv_results.mean(), cv_results.std())\n",
        "print(msg)"
      ],
      "execution_count": 0,
      "outputs": [
        {
          "output_type": "stream",
          "text": [
            "NB accuracy: 0.970000 (0.045826)\n"
          ],
          "name": "stdout"
        }
      ]
    },
    {
      "cell_type": "code",
      "metadata": {
        "id": "V4DXkXrdlZWv",
        "colab_type": "code",
        "outputId": "cc0068c3-846c-4716-fc63-8e610839b24f",
        "colab": {
          "base_uri": "https://localhost:8080/",
          "height": 34
        }
      },
      "source": [
        "import numpy as np \n",
        "  \n",
        "def distance(p1, p2): \n",
        "    return np.sqrt(np.sum(np.power(p2-p1, 2))) #distance between two points \n",
        "p1 = np.array([1, 1])   #coordinate x = 1, y = 1 \n",
        "p2 = np.array([4, 4])   #coordinate x = 4, y = 4 \n",
        "distance(p1, p2) "
      ],
      "execution_count": 0,
      "outputs": [
        {
          "output_type": "execute_result",
          "data": {
            "text/plain": [
              "4.242640687119285"
            ]
          },
          "metadata": {
            "tags": []
          },
          "execution_count": 33
        }
      ]
    },
    {
      "cell_type": "code",
      "metadata": {
        "id": "HdyhVwf7mhpB",
        "colab_type": "code",
        "outputId": "96d7872c-04ed-4453-84eb-0bfcb316804a",
        "colab": {
          "base_uri": "https://localhost:8080/",
          "height": 303
        }
      },
      "source": [
        "import numpy as np \n",
        "import random \n",
        "import scipy.stats as ss \n",
        "import matplotlib.pyplot as plt \n",
        "  \n",
        "points = np.array([[1, 1], [1, 2], [1, 3], [2, 1], [2, 2], [2, 3], [3, 1], [3, 2], [3, 3]])   \n",
        "   #points = existing points \n",
        "p = np.array([2.5, 2])   #p = point we wish to insert \n",
        "  \n",
        "def majority_vote(votes): \n",
        "    vote_counts = {} \n",
        "    for vote in votes: \n",
        "        if vote in vote_counts: \n",
        "           vote_counts[vote]+= 1\n",
        "        else: \n",
        "            vote_counts[vote]= 1\n",
        "    winners = [] \n",
        "    max_count = max(vote_counts.values()) \n",
        "    for vote, count in vote_counts.items(): \n",
        "        if count == max_count: \n",
        "            winners.append(vote) \n",
        "    return random.choice(winners) #returns winner randomly if there are more than 1 winner \n",
        "  \n",
        "#>>>votes =[1, 2, 3, 2, 2, 3, 1, 1, 2, 3, 1, 1, 1, 2, 3, 3, 3, 2, 2, 2, 3, 2, 3, 1, 1, 2] \n",
        "#sample vote counts above \n",
        "# >>>vote_counts = majority_vote(votes) \n",
        "  \n",
        "def majority_vote_short(votes): \n",
        "    mode, count = ss.mstats.mode(votes) \n",
        "    return mode \n",
        "  \n",
        "def find_nearest_neighbours(p, points, k = 5):  #algorithm to find the nearest neighbours \n",
        "    distances = np.zeros(points.shape[0]) \n",
        "    for i in range(len(distances)): \n",
        "        distances[i]= distance(p, points[i]) \n",
        "    ind = np.argsort(distances)      #returns index, according to sorted values in array \n",
        "    return ind[:k] \n",
        "  \n",
        "ind = find_nearest_neighbours(p, points, 2);print(points[ind]) \n",
        " #gives the nearest neighbour's for this sample case \n",
        "  \n",
        "plt.plot(points[:, 0], points[:, 1], \"ro\") \n",
        "plt.plot(p[0], p[1], \"bo\") \n",
        "plt.axis([0.5, 3.5, 0.5, 3.5]) \n",
        "plt.show() "
      ],
      "execution_count": 0,
      "outputs": [
        {
          "output_type": "stream",
          "text": [
            "[[2 2]\n",
            " [3 2]]\n"
          ],
          "name": "stdout"
        },
        {
          "output_type": "display_data",
          "data": {
            "image/png": "[encoded data removed]",
            "text/plain": [
              "<Figure size 432x288 with 1 Axes>"
            ]
          },
          "metadata": {
            "tags": []
          }
        }
      ]
    },
    {
      "cell_type": "code",
      "metadata": {
        "id": "lT4RODFLmqBK",
        "colab_type": "code",
        "outputId": "5fdce81f-507b-42cd-f8ab-2cb4d991c2bf",
        "colab": {
          "base_uri": "https://localhost:8080/",
          "height": 269
        }
      },
      "source": [
        "\n",
        "import numpy as np \n",
        "import random \n",
        "import scipy.stats as ss \n",
        "import matplotlib.pyplot as plt \n",
        "  \n",
        "''' add the functions and libraries from previous programmes '''\n",
        "  \n",
        "def knn_predict(p, points, outcomes, k = 5): \n",
        "    ind = find_nearest_neighbours(p, points, k) \n",
        "    return majority_vote(outcomes[ind]) \n",
        "  \n",
        "outcomes = np.array([0, 0, 0, 0, 1, 1, 1, 1, 1]) \n",
        "knn_predict(np.array([2.5, 2.7]), points, outcomes, k = 2) \n",
        "  \n",
        "def generate_synth_data(n = 50): \n",
        "    points = np.concatenate((ss.norm(0, 1).rvs((n, 2)), ss.norm(1, 1).rvs((n, 2))), axis = 0) \n",
        "    outcomes = np.concatenate((np.repeat(0, n), np.repeat(1, n))) \n",
        "    return (points, outcomes) \n",
        "  \n",
        "n = 20\n",
        "plt.figure() \n",
        "plt.plot(points[:n, 0], points[:n, 1], \"ro\") \n",
        "plt.plot(points[n:, 0], points[n:, 1], \"bo\") \n",
        "plt.show() "
      ],
      "execution_count": 0,
      "outputs": [
        {
          "output_type": "display_data",
          "data": {
            "image/png": "[encoded data removed]",
            "text/plain": [
              "<Figure size 432x288 with 1 Axes>"
            ]
          },
          "metadata": {
            "tags": []
          }
        }
      ]
    },
    {
      "cell_type": "code",
      "metadata": {
        "id": "rkaJihIumwbv",
        "colab_type": "code",
        "outputId": "8effffec-35ce-496c-ee3f-99331c300f52",
        "colab": {
          "base_uri": "https://localhost:8080/",
          "height": 592
        }
      },
      "source": [
        "import numpy as np \n",
        "import random \n",
        "import scipy.stats as ss \n",
        "import matplotlib.pyplot as plt \n",
        "  \n",
        "def make_prediction_grid(predictors, outcomes, limits, h, k): \n",
        "    (x_min, x_max, y_min, y_max) = limits \n",
        "    xs = np.arange(x_min, x_max, h) \n",
        "    ys = np.arange(y_min, y_max, h) \n",
        "    xx, yy = np.meshgrid(xs, ys) \n",
        "  \n",
        "    prediction_grid = np.zeros(xx.shape, dtype = int) \n",
        "    for i, x in enumerate(xs): \n",
        "        for j, y in enumerate(ys): \n",
        "            p = np.array([x, y]) \n",
        "            prediction_grid[j, i] = knn_predict(p, predictors, outcomes, k) \n",
        "    return (xx, yy, prediction_grid) \n",
        "  \n",
        "def plot_prediction_grid (xx, yy, prediction_grid, filename): \n",
        "    \"\"\" Plot KNN predictions for every point on the grid.\"\"\"\n",
        "    from matplotlib.colors import ListedColormap \n",
        "    background_colormap = ListedColormap ([\"hotpink\", \"lightskyblue\", \"yellowgreen\"]) \n",
        "    observation_colormap = ListedColormap ([\"red\", \"blue\", \"green\"]) \n",
        "    plt.figure(figsize =(10, 10)) \n",
        "    plt.pcolormesh(xx, yy, prediction_grid, cmap = background_colormap, alpha = 0.5) \n",
        "    plt.scatter(predictors[:, 0], predictors [:, 1], c = outcomes, cmap = observation_colormap, s = 50) \n",
        "    plt.xlabel('Variable 1'); plt.ylabel('Variable 2') \n",
        "    plt.xticks(()); plt.yticks(()) \n",
        "    plt.xlim (np.min(xx), np.max(xx)) \n",
        "    plt.ylim (np.min(yy), np.max(yy)) \n",
        "    plt.savefig(filename) \n",
        "  \n",
        "(predictors, outcomes) = generate_synth_data() \n",
        "# >>>predictors.shape \n",
        "# >>>outcomes.shape \n",
        "k = 5; filename =\"knn_synth_5.pdf\"; limits =(-3, 4, -3, 4); h = 0.1\n",
        "(xx, yy, prediction_grid) = make_prediction_grid(predictors, outcomes, limits, h, k) \n",
        "plot_prediction_grid(xx, yy, prediction_grid, filename) \n",
        "plt.show() "
      ],
      "execution_count": 0,
      "outputs": [
        {
          "output_type": "display_data",
          "data": {
            "image/png": "[encoded data removed]",
            "text/plain": [
              "<Figure size 720x720 with 1 Axes>"
            ]
          },
          "metadata": {
            "tags": []
          }
        }
      ]
    },
    {
      "cell_type": "code",
      "metadata": {
        "id": "GDXFnXfhnRU3",
        "colab_type": "code",
        "outputId": "4868349b-a2dd-41d1-bc80-3197de4ca431",
        "colab": {
          "base_uri": "https://localhost:8080/",
          "height": 912
        }
      },
      "source": [
        "from sklearn import datasets \n",
        "import numpy as np \n",
        "import random \n",
        "import matplotlib.pyplot as plt \n",
        "   \n",
        "iris = datasets.load_iris() \n",
        "    # >>>iris[\"data\"] \n",
        "predictors = iris.data[:, 0:2] \n",
        "outcomes = iris.target \n",
        "  \n",
        "plt.plot(predictors[outcomes == 0][:, 0], predictors[outcomes == 0][:, 1], \"ro\") \n",
        "plt.plot(predictors[outcomes == 1][:, 0], predictors[outcomes == 1][:, 1], \"go\") \n",
        "plt.plot(predictors[outcomes == 2][:, 0], predictors[outcomes == 2][:, 1], \"bo\") \n",
        "  \n",
        "k = 5; filename =\"iris_grid.pdf\"; limits =(4, 8, 1.5, 4.5); h = 0.1\n",
        "(xx, yy, prediction_grid) = make_prediction_grid(predictors, outcomes, limits, h, k) \n",
        "plot_prediction_grid(xx, yy, prediction_grid, filename) \n",
        "plt.show() \n",
        "  \n",
        "from sklearn.neighbors import KNeighborsClassifier #predictions from skikit \n",
        "knn = KNeighborsClassifier(n_neighbors = 5) \n",
        "knn.fit(predictors, outcomes) \n",
        "sk_predictions = knn.predict(predictors) \n",
        "  \n",
        "my_predictions = np.array([knn_predict(p, predictors, outcomes, 5) for p in predictors]) \n",
        "  \n",
        "   # >>>sk_predictions == my_predictions \n",
        "   # >>>np.mean(sk_predictions == my_predictions) \n",
        "print(\" prediction by scikit learn : \") \n",
        "print(100 * np.mean(sk_predictions == outcomes)) \n",
        "print(\" prediction by own model : \") \n",
        "print(100 * np.mean(my_predictions == outcomes))     \n",
        " # our homemade predicter is actually somewhat better "
      ],
      "execution_count": 0,
      "outputs": [
        {
          "output_type": "display_data",
          "data": {
            "image/png": "[encoded data removed]",
            "text/plain": [
              "<Figure size 432x288 with 1 Axes>"
            ]
          },
          "metadata": {
            "tags": []
          }
        },
        {
          "output_type": "display_data",
          "data": {
            "image/png": "[encoded data removed]",
            "text/plain": [
              "<Figure size 720x720 with 1 Axes>"
            ]
          },
          "metadata": {
            "tags": []
          }
        },
        {
          "output_type": "stream",
          "text": [
            " prediction by scikit learn : \n",
            "83.33333333333334\n",
            " prediction by own model : \n",
            "84.66666666666667\n"
          ],
          "name": "stdout"
        }
      ]
    },
    {
      "cell_type": "code",
      "metadata": {
        "id": "KR482dZto1xA",
        "colab_type": "code",
        "colab": {}
      },
      "source": [
        "import pandas as pd\n",
        "import numpy as np\n",
        "import seaborn as sns\n",
        "import matplotlib.pyplot as plt\n",
        "\n",
        "from sklearn.model_selection import train_test_split\n",
        "from sklearn.tree import DecisionTreeClassifier\n",
        "\n",
        "df = pd.read_csv('Iris.csv')"
      ],
      "execution_count": 0,
      "outputs": []
    },
    {
      "cell_type": "code",
      "metadata": {
        "id": "Hwo51yGeo6Gt",
        "colab_type": "code",
        "colab": {
          "base_uri": "https://localhost:8080/",
          "height": 136
        },
        "outputId": "a44c54d1-85cd-46b5-c183-e750523d708c"
      },
      "source": [
        "df.isnull().any()"
      ],
      "execution_count": 41,
      "outputs": [
        {
          "output_type": "execute_result",
          "data": {
            "text/plain": [
              "Id               False\n",
              "SepalLengthCm    False\n",
              "SepalWidthCm     False\n",
              "PetalLengthCm    False\n",
              "PetalWidthCm     False\n",
              "Species          False\n",
              "dtype: bool"
            ]
          },
          "metadata": {
            "tags": []
          },
          "execution_count": 41
        }
      ]
    },
    {
      "cell_type": "code",
      "metadata": {
        "id": "61mFtMe4o7W1",
        "colab_type": "code",
        "colab": {
          "base_uri": "https://localhost:8080/",
          "height": 136
        },
        "outputId": "b7843d7a-9881-4e87-d03a-4339bd3dcf00"
      },
      "source": [
        "df.dtypes"
      ],
      "execution_count": 42,
      "outputs": [
        {
          "output_type": "execute_result",
          "data": {
            "text/plain": [
              "Id                 int64\n",
              "SepalLengthCm    float64\n",
              "SepalWidthCm     float64\n",
              "PetalLengthCm    float64\n",
              "PetalWidthCm     float64\n",
              "Species           object\n",
              "dtype: object"
            ]
          },
          "metadata": {
            "tags": []
          },
          "execution_count": 42
        }
      ]
    },
    {
      "cell_type": "code",
      "metadata": {
        "id": "CVRwG97mpDPN",
        "colab_type": "code",
        "colab": {
          "base_uri": "https://localhost:8080/",
          "height": 297
        },
        "outputId": "5995558a-e269-475d-ebf4-4ddd6c623751"
      },
      "source": [
        "df.describe()"
      ],
      "execution_count": 43,
      "outputs": [
        {
          "output_type": "execute_result",
          "data": {
            "text/html": [
              "<div>\n",
              "<style scoped>\n",
              "    .dataframe tbody tr th:only-of-type {\n",
              "        vertical-align: middle;\n",
              "    }\n",
              "\n",
              "    .dataframe tbody tr th {\n",
              "        vertical-align: top;\n",
              "    }\n",
              "\n",
              "    .dataframe thead th {\n",
              "        text-align: right;\n",
              "    }\n",
              "</style>\n",
              "<table border=\"1\" class=\"dataframe\">\n",
              "  <thead>\n",
              "    <tr style=\"text-align: right;\">\n",
              "      <th></th>\n",
              "      <th>Id</th>\n",
              "      <th>SepalLengthCm</th>\n",
              "      <th>SepalWidthCm</th>\n",
              "      <th>PetalLengthCm</th>\n",
              "      <th>PetalWidthCm</th>\n",
              "    </tr>\n",
              "  </thead>\n",
              "  <tbody>\n",
              "    <tr>\n",
              "      <th>count</th>\n",
              "      <td>150.000000</td>\n",
              "      <td>150.000000</td>\n",
              "      <td>150.000000</td>\n",
              "      <td>150.000000</td>\n",
              "      <td>150.000000</td>\n",
              "    </tr>\n",
              "    <tr>\n",
              "      <th>mean</th>\n",
              "      <td>75.500000</td>\n",
              "      <td>5.843333</td>\n",
              "      <td>3.054000</td>\n",
              "      <td>3.758667</td>\n",
              "      <td>1.198667</td>\n",
              "    </tr>\n",
              "    <tr>\n",
              "      <th>std</th>\n",
              "      <td>43.445368</td>\n",
              "      <td>0.828066</td>\n",
              "      <td>0.433594</td>\n",
              "      <td>1.764420</td>\n",
              "      <td>0.763161</td>\n",
              "    </tr>\n",
              "    <tr>\n",
              "      <th>min</th>\n",
              "      <td>1.000000</td>\n",
              "      <td>4.300000</td>\n",
              "      <td>2.000000</td>\n",
              "      <td>1.000000</td>\n",
              "      <td>0.100000</td>\n",
              "    </tr>\n",
              "    <tr>\n",
              "      <th>25%</th>\n",
              "      <td>38.250000</td>\n",
              "      <td>5.100000</td>\n",
              "      <td>2.800000</td>\n",
              "      <td>1.600000</td>\n",
              "      <td>0.300000</td>\n",
              "    </tr>\n",
              "    <tr>\n",
              "      <th>50%</th>\n",
              "      <td>75.500000</td>\n",
              "      <td>5.800000</td>\n",
              "      <td>3.000000</td>\n",
              "      <td>4.350000</td>\n",
              "      <td>1.300000</td>\n",
              "    </tr>\n",
              "    <tr>\n",
              "      <th>75%</th>\n",
              "      <td>112.750000</td>\n",
              "      <td>6.400000</td>\n",
              "      <td>3.300000</td>\n",
              "      <td>5.100000</td>\n",
              "      <td>1.800000</td>\n",
              "    </tr>\n",
              "    <tr>\n",
              "      <th>max</th>\n",
              "      <td>150.000000</td>\n",
              "      <td>7.900000</td>\n",
              "      <td>4.400000</td>\n",
              "      <td>6.900000</td>\n",
              "      <td>2.500000</td>\n",
              "    </tr>\n",
              "  </tbody>\n",
              "</table>\n",
              "</div>"
            ],
            "text/plain": [
              "               Id  SepalLengthCm  SepalWidthCm  PetalLengthCm  PetalWidthCm\n",
              "count  150.000000     150.000000    150.000000     150.000000    150.000000\n",
              "mean    75.500000       5.843333      3.054000       3.758667      1.198667\n",
              "std     43.445368       0.828066      0.433594       1.764420      0.763161\n",
              "min      1.000000       4.300000      2.000000       1.000000      0.100000\n",
              "25%     38.250000       5.100000      2.800000       1.600000      0.300000\n",
              "50%     75.500000       5.800000      3.000000       4.350000      1.300000\n",
              "75%    112.750000       6.400000      3.300000       5.100000      1.800000\n",
              "max    150.000000       7.900000      4.400000       6.900000      2.500000"
            ]
          },
          "metadata": {
            "tags": []
          },
          "execution_count": 43
        }
      ]
    },
    {
      "cell_type": "code",
      "metadata": {
        "id": "3FzRGVFOpHh9",
        "colab_type": "code",
        "colab": {}
      },
      "source": [
        "all_inputs = df[['SepalLengthCm', 'SepalWidthCm', 'PetalLengthCm', 'PetalWidthCm']].values\n",
        "all_classes = df['Species'].values\n",
        "\n",
        "(train_inputs, test_inputs, train_classes, test_classes) = train_test_split(all_inputs, all_classes, train_size=0.7, random_state=1)\n"
      ],
      "execution_count": 0,
      "outputs": []
    },
    {
      "cell_type": "code",
      "metadata": {
        "id": "1e_UITqCvFRA",
        "colab_type": "code",
        "colab": {
          "base_uri": "https://localhost:8080/",
          "height": 68
        },
        "outputId": "104fe739-3a0a-49ad-c33e-2904a4d3bfcc"
      },
      "source": [
        "confusion_matrix(outcomes,sk_predictions)"
      ],
      "execution_count": 59,
      "outputs": [
        {
          "output_type": "execute_result",
          "data": {
            "text/plain": [
              "array([[49,  1,  0],\n",
              "       [ 0, 38, 12],\n",
              "       [ 0, 12, 38]])"
            ]
          },
          "metadata": {
            "tags": []
          },
          "execution_count": 59
        }
      ]
    },
    {
      "cell_type": "code",
      "metadata": {
        "id": "G-iFucc3pRam",
        "colab_type": "code",
        "colab": {
          "base_uri": "https://localhost:8080/",
          "height": 490
        },
        "outputId": "53ac6ab2-f515-4f2b-93a9-39abeec2b891"
      },
      "source": [
        " from sklearn import tree\n",
        "dtc = tree.DecisionTreeClassifier()\n",
        "dtc.fit(train_inputs, train_classes)\n",
        "dtc.score(test_inputs, test_classes)\n",
        "predict=dtc.predict(test_inputs)\n",
        "tree.plot_tree(dtc.fit(train_inputs, train_classes)) \n"
      ],
      "execution_count": 55,
      "outputs": [
        {
          "output_type": "execute_result",
          "data": {
            "text/plain": [
              "[Text(133.92000000000002, 195.696, 'X[2] <= 2.6\\ngini = 0.665\\nsamples = 105\\nvalue = [36, 32, 37]'),\n",
              " Text(100.44000000000001, 152.208, 'gini = 0.0\\nsamples = 36\\nvalue = [36, 0, 0]'),\n",
              " Text(167.40000000000003, 152.208, 'X[3] <= 1.65\\ngini = 0.497\\nsamples = 69\\nvalue = [0, 32, 37]'),\n",
              " Text(66.96000000000001, 108.72, 'X[2] <= 5.0\\ngini = 0.161\\nsamples = 34\\nvalue = [0, 31, 3]'),\n",
              " Text(33.480000000000004, 65.232, 'gini = 0.0\\nsamples = 30\\nvalue = [0, 30, 0]'),\n",
              " Text(100.44000000000001, 65.232, 'X[0] <= 6.05\\ngini = 0.375\\nsamples = 4\\nvalue = [0, 1, 3]'),\n",
              " Text(66.96000000000001, 21.744, 'gini = 0.0\\nsamples = 1\\nvalue = [0, 1, 0]'),\n",
              " Text(133.92000000000002, 21.744, 'gini = 0.0\\nsamples = 3\\nvalue = [0, 0, 3]'),\n",
              " Text(267.84000000000003, 108.72, 'X[2] <= 4.85\\ngini = 0.056\\nsamples = 35\\nvalue = [0, 1, 34]'),\n",
              " Text(234.36, 65.232, 'X[1] <= 3.1\\ngini = 0.375\\nsamples = 4\\nvalue = [0, 1, 3]'),\n",
              " Text(200.88000000000002, 21.744, 'gini = 0.0\\nsamples = 3\\nvalue = [0, 0, 3]'),\n",
              " Text(267.84000000000003, 21.744, 'gini = 0.0\\nsamples = 1\\nvalue = [0, 1, 0]'),\n",
              " Text(301.32000000000005, 65.232, 'gini = 0.0\\nsamples = 31\\nvalue = [0, 0, 31]')]"
            ]
          },
          "metadata": {
            "tags": []
          },
          "execution_count": 55
        },
        {
          "output_type": "display_data",
          "data": {
            "image/png": "[encoded data removed]",
            "text/plain": [
              "<Figure size 432x288 with 1 Axes>"
            ]
          },
          "metadata": {
            "tags": []
          }
        }
      ]
    },
    {
      "cell_type": "code",
      "metadata": {
        "id": "ymEsI97DqmJB",
        "colab_type": "code",
        "colab": {
          "base_uri": "https://localhost:8080/",
          "height": 68
        },
        "outputId": "77b3caea-c46f-415c-9efe-cf0ff4d1e40d"
      },
      "source": [
        "confusion_matrix( test_classes,predict)"
      ],
      "execution_count": 54,
      "outputs": [
        {
          "output_type": "execute_result",
          "data": {
            "text/plain": [
              "array([[14,  0,  0],\n",
              "       [ 0, 17,  1],\n",
              "       [ 0,  1, 12]])"
            ]
          },
          "metadata": {
            "tags": []
          },
          "execution_count": 54
        }
      ]
    },
    {
      "cell_type": "markdown",
      "metadata": {
        "id": "dKBOPxqUxj9G",
        "colab_type": "text"
      },
      "source": [
        "## **Since ROC is only for binary classification, it cannot be used here as iris has three classes**"
      ]
    }
  ]
}
